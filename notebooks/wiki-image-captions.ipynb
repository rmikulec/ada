{
 "cells": [
  {
   "cell_type": "code",
   "execution_count": 1,
   "metadata": {},
   "outputs": [],
   "source": [
    "import wikipedia\n",
    "from typing import Dict\n",
    "from bs4 import BeautifulSoup"
   ]
  },
  {
   "cell_type": "markdown",
   "metadata": {},
   "source": [
    "# Data Exploration: Using the Wikipedia-Provided Image captions\n",
    "\n",
    "While the wikipedia package is a good starting off point, it lacks a few key features, some of which seemed like they were already implemented.\n",
    "\n",
    " - Image Captions: The package provides an `images` array, but they are in no way linked to their captions\n",
    " - Sections: The package also provides a `sections` array, but it seems to be empty for every page checked so far.\n",
    "\n",
    "Will need to extend the `wikipedia.WikipediaPage` class in order to properly handle these to situations\n",
    "\n",
    "This seems like an essential step, as wiki pages can easily exceed the token limit for `gpt-4`. It will be useful to break the page down into pieces, then let the OpenAI gpt functions deciede which pieces of information it needs to properly answer the user's question"
   ]
  },
  {
   "cell_type": "markdown",
   "metadata": {},
   "source": [
    "### Extended Class\n",
    "\n",
    "The new class adds the following attributes, using `BeautifulSoup` to run through the html of the page:\n",
    " - `image_captions`: Dictionary containing the image url as key, and the caption as the value.\n",
    " - `indexed_content`: Dictionary that splits up the total content into their respective sections. The key is the section title, the value is the section content."
   ]
  },
  {
   "cell_type": "code",
   "execution_count": 2,
   "metadata": {},
   "outputs": [],
   "source": [
    "class WikiPage(wikipedia.WikipediaPage):\n",
    "\n",
    "    def __init__(self, **kwargs):\n",
    "        super().__init__(**kwargs)\n",
    "        self.html = BeautifulSoup(self.html())\n",
    "        self.image_captions = self._get_all_image_captions()\n",
    "        self.indexed_content = self._build_sections()\n",
    "\n",
    "    def _get_all_image_captions(self) -> Dict[str, str]:\n",
    "        figures = self.html.findAll(name=\"figure\")\n",
    "\n",
    "        data = {}\n",
    "\n",
    "        for fig in figures:\n",
    "            try:\n",
    "                img_src = fig.findAll(name=\"a\")[0].findAll(name=\"img\")[0].attrs['src']\n",
    "                img_caption = fig.findAll(name='figcaption')[0].text\n",
    "                data[img_src] = img_caption\n",
    "            except IndexError:\n",
    "                pass\n",
    "\n",
    "        return data\n",
    "    \n",
    "    def _build_sections(self):\n",
    "        sections = {}\n",
    "\n",
    "        current_section = \"Summary\"\n",
    "        sections[current_section] = []\n",
    "\n",
    "        for child in list(list(self.html.children)[0].children):\n",
    "            if child.name == 'h2':\n",
    "                current_section = child.find(name=\"span\").text\n",
    "                sections[current_section] = []\n",
    "            elif child.name == 'p':\n",
    "                sections[current_section].append(child.text)\n",
    "        return sections"
   ]
  },
  {
   "cell_type": "code",
   "execution_count": 4,
   "metadata": {},
   "outputs": [],
   "source": [
    "test = WikiPage(title=\"Dinosaur\")"
   ]
  },
  {
   "cell_type": "code",
   "execution_count": 5,
   "metadata": {},
   "outputs": [
    {
     "data": {
      "text/plain": [
       "['Summary',\n",
       " 'Definition',\n",
       " 'History of study',\n",
       " 'Evolutionary history',\n",
       " 'Classification',\n",
       " 'Paleobiology',\n",
       " 'Origin of birds',\n",
       " 'Extinction of major groups',\n",
       " 'Cultural depictions',\n",
       " 'See also',\n",
       " 'Further reading',\n",
       " 'Notes',\n",
       " 'Bibliography',\n",
       " 'References']"
      ]
     },
     "execution_count": 5,
     "metadata": {},
     "output_type": "execute_result"
    }
   ],
   "source": [
    "list(test.indexed_content.keys())"
   ]
  },
  {
   "cell_type": "code",
   "execution_count": 8,
   "metadata": {},
   "outputs": [
    {
     "data": {
      "text/plain": [
       "{'//upload.wikimedia.org/wikipedia/commons/thumb/f/f5/Neognathae.jpg/220px-Neognathae.jpg': 'Birds are avian dinosaurs, and in phylogenetic taxonomy are included in the group Dinosauria.',\n",
       " '//upload.wikimedia.org/wikipedia/commons/thumb/e/ec/LA-Triceratops_mount-2.jpg/250px-LA-Triceratops_mount-2.jpg': 'Triceratops skeleton, Natural History Museum of Los Angeles County',\n",
       " '//upload.wikimedia.org/wikipedia/commons/thumb/4/44/Dromaeosaurus_skull_en.svg/220px-Dromaeosaurus_skull_en.svg.png': 'Labeled diagram of a typical archosaur skull, the skull of Dromaeosaurus',\n",
       " '//upload.wikimedia.org/wikipedia/commons/thumb/9/9a/Sprawling_and_erect_hip_joints_-_horizontal.svg/220px-Sprawling_and_erect_hip_joints_-_horizontal.svg.png': 'Hip joints and hindlimb postures of: (left to right) typical reptiles (sprawling), dinosaurs and mammals (erect), and rauisuchians (pillar-erect)',\n",
       " '//upload.wikimedia.org/wikipedia/commons/thumb/0/0e/William_Buckland_c1845.jpg/170px-William_Buckland_c1845.jpg': 'William Buckland',\n",
       " '//upload.wikimedia.org/wikipedia/commons/thumb/c/ca/Dinosaur_coining_of_the_word_in_1841.jpg/220px-Dinosaur_coining_of_the_word_in_1841.jpg': \"Sir Richard Owen's coining of the word dinosaur, in the 1842 revised version of his talk at an 1841 meeting of the British Association for the Advancement of Science.\",\n",
       " '//upload.wikimedia.org/wikipedia/commons/thumb/0/0f/Bulletin_%281969%29_%2819798844494%29.jpg/220px-Bulletin_%281969%29_%2819798844494%29.jpg': \"John Ostrom's original restoration of Deinonychus, published in 1969\",\n",
       " '//upload.wikimedia.org/wikipedia/commons/thumb/6/6b/Dr._Bob_Bakker_with_Dino.jpg/220px-Dr._Bob_Bakker_with_Dino.jpg': 'Paleontologist Robert T. Bakker with a mounted skeleton of a tyrannosaurid (Gorgosaurus libratus)',\n",
       " '//upload.wikimedia.org/wikipedia/commons/thumb/a/a2/Dakota_skin_impression.jpg/220px-Dakota_skin_impression.jpg': \"An Edmontosaurus specimen's skin impressions found in 1999\",\n",
       " '//upload.wikimedia.org/wikipedia/commons/thumb/8/87/9121_-_Milano%2C_Museo_storia_naturale_-_Scipionyx_samniticus_-_Foto_Giovanni_Dall%27Orto_22-Apr-2007a.jpg/220px-9121_-_Milano%2C_Museo_storia_naturale_-_Scipionyx_samniticus_-_Foto_Giovanni_Dall%27Orto_22-Apr-2007a.jpg': 'Scipionyx fossil with intestines, Natural History Museum of Milan',\n",
       " '//upload.wikimedia.org/wikipedia/commons/thumb/c/c3/Herrerasaurusskeleton.jpg/220px-Herrerasaurusskeleton.jpg': 'The early dinosaurs Herrerasaurus (large), Eoraptor (small) and a Plateosaurus skull, from the Triassic',\n",
       " '//upload.wikimedia.org/wikipedia/commons/thumb/e/ec/Pangaea_200Ma.jpg/330px-Pangaea_200Ma.jpg': 'The supercontinent Pangaea in the early Mesozoic (around 200 million years ago)',\n",
       " '//upload.wikimedia.org/wikipedia/commons/thumb/b/be/Ornithopods_jconway.jpg/220px-Ornithopods_jconway.jpg': 'Restoration of six ornithopods; far left: Camptosaurus, left: Iguanodon, center background: Shantungosaurus, center foreground: Dryosaurus, right: Corythosaurus, far right (large) Tenontosaurus.',\n",
       " '//upload.wikimedia.org/wikipedia/commons/thumb/2/2b/Ceratopsidae-BW-003.png/220px-Ceratopsidae-BW-003.png': 'Restoration of four ceratopsids: top left – Triceratops, top right – Styracosaurus, bottom left – Anchiceratops, bottom right – Chasmosaurus.',\n",
       " '//upload.wikimedia.org/wikipedia/commons/thumb/2/28/Macronaria_scrubbed_enh.jpg/220px-Macronaria_scrubbed_enh.jpg': 'Restoration of four macronarian sauropods: from left to right Camarasaurus, Brachiosaurus, Giraffatitan, and Euhelopus',\n",
       " '//upload.wikimedia.org/wikipedia/commons/thumb/e/ed/Dromaeosaurs.png/220px-Dromaeosaurs.png': 'Restoration of six dromaeosaurid theropods: from left to right Microraptor, Velociraptor, Austroraptor, Dromaeosaurus, Utahraptor, and Deinonychus',\n",
       " '//upload.wikimedia.org/wikipedia/commons/thumb/e/e6/Longest_dinosaur_by_clade.svg/320px-Longest_dinosaur_by_clade.svg.png': 'Scale diagram comparing the average human to the longest known dinosaurs in five major clades:\\xa0\\xa0Sauropoda (Supersaurus vivianae)\\xa0\\xa0Ornithopoda (Shantungosaurus giganteus)\\xa0\\xa0Theropoda (Spinosaurus aegyptiacus) \\xa0\\xa0Thyreophora (Stegosaurus ungulatus) \\xa0\\xa0Marginocephalia (Triceratops prorsus)',\n",
       " '//upload.wikimedia.org/wikipedia/commons/thumb/7/73/Argentinosaurus_9.svg/220px-Argentinosaurus_9.svg.png': 'Comparative size of Argentinosaurus to the average human',\n",
       " '//upload.wikimedia.org/wikipedia/commons/thumb/d/da/Bee_hummingbird_%28Mellisuga_helenae%29_adult_male_in_flight-cropped.jpg/220px-Bee_hummingbird_%28Mellisuga_helenae%29_adult_male_in_flight-cropped.jpg': 'An adult bee hummingbird, the smallest known dinosaur',\n",
       " '//upload.wikimedia.org/wikipedia/commons/thumb/3/39/Maiasaurusnest.jpg/220px-Maiasaurusnest.jpg': 'A nesting ground of the hadrosaur Maiasaura peeblesorum was discovered in 1978',\n",
       " '//upload.wikimedia.org/wikipedia/commons/thumb/e/e8/Centrosaurus_dinosaur.png/220px-Centrosaurus_dinosaur.png': 'Restoration of two Centrosaurus apertus engaged in intra-specific combat',\n",
       " '//upload.wikimedia.org/wikipedia/commons/thumb/4/46/Lambeosaurus_magnicristatus_DB.jpg/220px-Lambeosaurus_magnicristatus_DB.jpg': 'Restoration of a striking and unusual visual display in a Lambeosaurus magnicristatus. The crest could also have acted as a resonating chamber for sounds',\n",
       " '//upload.wikimedia.org/wikipedia/commons/thumb/1/11/Gniazdo_sieweczki_RB.JPG/220px-Gniazdo_sieweczki_RB.JPG': 'Nest of a plover (Charadrius)',\n",
       " '//upload.wikimedia.org/wikipedia/commons/thumb/f/f7/Citipati_IGM_100_979.jpg/220px-Citipati_IGM_100_979.jpg': 'Fossil interpreted as a nesting oviraptorid Citipati at the American Museum of Natural History. Smaller fossil far right showing inside one of the eggs.',\n",
       " '//upload.wikimedia.org/wikipedia/commons/thumb/3/3e/Pasta-Brontosaurus.jpg/220px-Pasta-Brontosaurus.jpg': 'This 1897 restoration of Brontosaurus as an aquatic, tail-dragging animal, by Charles R. Knight, typified early views on dinosaur lifestyles.',\n",
       " '//upload.wikimedia.org/wikipedia/commons/thumb/0/05/Dino_bird_h.jpg/220px-Dino_bird_h.jpg': 'Comparison between the air sacs of an abelisaur and a bird',\n",
       " '//upload.wikimedia.org/wikipedia/commons/thumb/9/9c/Feathered_non-avian_Maniraptora.jpg/220px-Feathered_non-avian_Maniraptora.jpg': 'Various feathered non-avian dinosaurs, including Archaeopteryx, Anchiornis, Microraptor and Zhenyuanlong',\n",
       " '//upload.wikimedia.org/wikipedia/commons/thumb/d/d5/Pneumatopores_on_the_left_ilium_of_the_theropod_Aerosteon_riocoloradensis.jpg/220px-Pneumatopores_on_the_left_ilium_of_the_theropod_Aerosteon_riocoloradensis.jpg': 'Pneumatopores on the left ilium of Aerosteon riocoloradensis',\n",
       " '//upload.wikimedia.org/wikipedia/commons/thumb/8/8a/LWA_with_Walt.JPG/170px-LWA_with_Walt.JPG': 'Luis (left) and his son Walter Alvarez (right) at the K-T Boundary in Gubbio, Italy, 1981',\n",
       " '//upload.wikimedia.org/wikipedia/commons/thumb/9/9c/Chicxulub_radar_topography.jpg/220px-Chicxulub_radar_topography.jpg': 'The Chicxulub Crater at the tip of the Yucatán Peninsula; the impactor that formed this crater may have caused the dinosaur extinction.',\n",
       " '//upload.wikimedia.org/wikipedia/commons/thumb/a/a6/Iguanodon_Crystal_Palace.jpg/220px-Iguanodon_Crystal_Palace.jpg': 'Outdated Iguanodon statues created by Benjamin Waterhouse Hawkins for the Crystal Palace Park in 1853'}"
      ]
     },
     "execution_count": 8,
     "metadata": {},
     "output_type": "execute_result"
    }
   ],
   "source": [
    "test.image_captions"
   ]
  },
  {
   "cell_type": "code",
   "execution_count": null,
   "metadata": {},
   "outputs": [],
   "source": []
  }
 ],
 "metadata": {
  "kernelspec": {
   "display_name": "scix",
   "language": "python",
   "name": "python3"
  },
  "language_info": {
   "codemirror_mode": {
    "name": "ipython",
    "version": 3
   },
   "file_extension": ".py",
   "mimetype": "text/x-python",
   "name": "python",
   "nbconvert_exporter": "python",
   "pygments_lexer": "ipython3",
   "version": "3.9.18"
  }
 },
 "nbformat": 4,
 "nbformat_minor": 2
}
